{
  "nbformat": 4,
  "nbformat_minor": 0,
  "metadata": {
    "colab": {
      "provenance": [],
      "machine_shape": "hm",
      "gpuType": "V28",
      "mount_file_id": "1KAyWnW6V1yMWfh3QdBneqbvavyvwSKZq",
      "authorship_tag": "ABX9TyN5IjSvmYY85oUFK0T7sQ42",
      "include_colab_link": true
    },
    "kernelspec": {
      "name": "python3",
      "display_name": "Python 3"
    },
    "language_info": {
      "name": "python"
    },
    "accelerator": "TPU",
    "widgets": {
      "application/vnd.jupyter.widget-state+json": {
        "2529f9352d3e4e07ab0931cd301cf701": {
          "model_module": "@jupyter-widgets/controls",
          "model_name": "VBoxModel",
          "model_module_version": "1.5.0",
          "state": {
            "_dom_classes": [],
            "_model_module": "@jupyter-widgets/controls",
            "_model_module_version": "1.5.0",
            "_model_name": "VBoxModel",
            "_view_count": null,
            "_view_module": "@jupyter-widgets/controls",
            "_view_module_version": "1.5.0",
            "_view_name": "VBoxView",
            "box_style": "",
            "children": [
              "IPY_MODEL_c9748f6f44cb4c2a80d3d16379749768",
              "IPY_MODEL_8bdd2c4bd5734d99a713e332c9db5b78",
              "IPY_MODEL_6e3648a1867942b893dc3f799c75b5d0",
              "IPY_MODEL_284ca3183b8c431e9189b8068bb1247a",
              "IPY_MODEL_ec3dc0b009e54136b8ba3ad68faf3f10"
            ],
            "layout": "IPY_MODEL_bed9d59829274db9abb51bed6e079e99"
          }
        },
        "c9748f6f44cb4c2a80d3d16379749768": {
          "model_module": "@jupyter-widgets/controls",
          "model_name": "LabelModel",
          "model_module_version": "1.5.0",
          "state": {
            "_dom_classes": [],
            "_model_module": "@jupyter-widgets/controls",
            "_model_module_version": "1.5.0",
            "_model_name": "LabelModel",
            "_view_count": null,
            "_view_module": "@jupyter-widgets/controls",
            "_view_module_version": "1.5.0",
            "_view_name": "LabelView",
            "description": "",
            "description_tooltip": null,
            "layout": "IPY_MODEL_60a89a88bf4044cfb30268ed856da75f",
            "placeholder": "​",
            "style": "IPY_MODEL_bdb9880370ac424cb612dcd87eac164d",
            "value": "Select your bear!"
          }
        },
        "8bdd2c4bd5734d99a713e332c9db5b78": {
          "model_module": "@jupyter-widgets/controls",
          "model_name": "FileUploadModel",
          "model_module_version": "1.5.0",
          "state": {
            "_counter": 2,
            "_dom_classes": [],
            "_model_module": "@jupyter-widgets/controls",
            "_model_module_version": "1.5.0",
            "_model_name": "FileUploadModel",
            "_view_count": null,
            "_view_module": "@jupyter-widgets/controls",
            "_view_module_version": "1.5.0",
            "_view_name": "FileUploadView",
            "accept": "",
            "button_style": "",
            "data": [
              null
            ],
            "description": "Upload",
            "description_tooltip": null,
            "disabled": false,
            "error": "",
            "icon": "upload",
            "layout": "IPY_MODEL_b3e0d2c309e64eb8abe9b5b7f5fe20d1",
            "metadata": [
              {
                "name": "images.jpg",
                "type": "image/jpeg",
                "size": 4819,
                "lastModified": 1714597369067
              }
            ],
            "multiple": false,
            "style": "IPY_MODEL_27851012a2fc4e49988f323279f83f47"
          }
        },
        "6e3648a1867942b893dc3f799c75b5d0": {
          "model_module": "@jupyter-widgets/controls",
          "model_name": "ButtonModel",
          "model_module_version": "1.5.0",
          "state": {
            "_dom_classes": [],
            "_model_module": "@jupyter-widgets/controls",
            "_model_module_version": "1.5.0",
            "_model_name": "ButtonModel",
            "_view_count": null,
            "_view_module": "@jupyter-widgets/controls",
            "_view_module_version": "1.5.0",
            "_view_name": "ButtonView",
            "button_style": "",
            "description": "Classify",
            "disabled": false,
            "icon": "",
            "layout": "IPY_MODEL_404f60e2cd5a4f3aab371f78b0f8bfe7",
            "style": "IPY_MODEL_bb368d29d7444b99abcd9aeae3961891",
            "tooltip": ""
          }
        },
        "284ca3183b8c431e9189b8068bb1247a": {
          "model_module": "@jupyter-widgets/output",
          "model_name": "OutputModel",
          "model_module_version": "1.0.0",
          "state": {
            "_dom_classes": [],
            "_model_module": "@jupyter-widgets/output",
            "_model_module_version": "1.0.0",
            "_model_name": "OutputModel",
            "_view_count": null,
            "_view_module": "@jupyter-widgets/output",
            "_view_module_version": "1.0.0",
            "_view_name": "OutputView",
            "layout": "IPY_MODEL_12320117f393425e8f8c88da253abcf4",
            "msg_id": "",
            "outputs": [
              {
                "output_type": "display_data",
                "data": {
                  "text/plain": "<PIL.Image.Image image mode=RGB size=128x85>",
                  "image/png": "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\n",
                  "image/jpeg": "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\n"
                },
                "metadata": {}
              }
            ]
          }
        },
        "ec3dc0b009e54136b8ba3ad68faf3f10": {
          "model_module": "@jupyter-widgets/controls",
          "model_name": "LabelModel",
          "model_module_version": "1.5.0",
          "state": {
            "_dom_classes": [],
            "_model_module": "@jupyter-widgets/controls",
            "_model_module_version": "1.5.0",
            "_model_name": "LabelModel",
            "_view_count": null,
            "_view_module": "@jupyter-widgets/controls",
            "_view_module_version": "1.5.0",
            "_view_name": "LabelView",
            "description": "",
            "description_tooltip": null,
            "layout": "IPY_MODEL_2132eeeeac594b3692761dfa58b2d670",
            "placeholder": "​",
            "style": "IPY_MODEL_7332687c970641aeb67fe911a4ea2671",
            "value": "Prediction: Siamese cat; Probability: 0.9991"
          }
        },
        "bed9d59829274db9abb51bed6e079e99": {
          "model_module": "@jupyter-widgets/base",
          "model_name": "LayoutModel",
          "model_module_version": "1.2.0",
          "state": {
            "_model_module": "@jupyter-widgets/base",
            "_model_module_version": "1.2.0",
            "_model_name": "LayoutModel",
            "_view_count": null,
            "_view_module": "@jupyter-widgets/base",
            "_view_module_version": "1.2.0",
            "_view_name": "LayoutView",
            "align_content": null,
            "align_items": null,
            "align_self": null,
            "border": null,
            "bottom": null,
            "display": null,
            "flex": null,
            "flex_flow": null,
            "grid_area": null,
            "grid_auto_columns": null,
            "grid_auto_flow": null,
            "grid_auto_rows": null,
            "grid_column": null,
            "grid_gap": null,
            "grid_row": null,
            "grid_template_areas": null,
            "grid_template_columns": null,
            "grid_template_rows": null,
            "height": null,
            "justify_content": null,
            "justify_items": null,
            "left": null,
            "margin": null,
            "max_height": null,
            "max_width": null,
            "min_height": null,
            "min_width": null,
            "object_fit": null,
            "object_position": null,
            "order": null,
            "overflow": null,
            "overflow_x": null,
            "overflow_y": null,
            "padding": null,
            "right": null,
            "top": null,
            "visibility": null,
            "width": null
          }
        },
        "60a89a88bf4044cfb30268ed856da75f": {
          "model_module": "@jupyter-widgets/base",
          "model_name": "LayoutModel",
          "model_module_version": "1.2.0",
          "state": {
            "_model_module": "@jupyter-widgets/base",
            "_model_module_version": "1.2.0",
            "_model_name": "LayoutModel",
            "_view_count": null,
            "_view_module": "@jupyter-widgets/base",
            "_view_module_version": "1.2.0",
            "_view_name": "LayoutView",
            "align_content": null,
            "align_items": null,
            "align_self": null,
            "border": null,
            "bottom": null,
            "display": null,
            "flex": null,
            "flex_flow": null,
            "grid_area": null,
            "grid_auto_columns": null,
            "grid_auto_flow": null,
            "grid_auto_rows": null,
            "grid_column": null,
            "grid_gap": null,
            "grid_row": null,
            "grid_template_areas": null,
            "grid_template_columns": null,
            "grid_template_rows": null,
            "height": null,
            "justify_content": null,
            "justify_items": null,
            "left": null,
            "margin": null,
            "max_height": null,
            "max_width": null,
            "min_height": null,
            "min_width": null,
            "object_fit": null,
            "object_position": null,
            "order": null,
            "overflow": null,
            "overflow_x": null,
            "overflow_y": null,
            "padding": null,
            "right": null,
            "top": null,
            "visibility": null,
            "width": null
          }
        },
        "bdb9880370ac424cb612dcd87eac164d": {
          "model_module": "@jupyter-widgets/controls",
          "model_name": "DescriptionStyleModel",
          "model_module_version": "1.5.0",
          "state": {
            "_model_module": "@jupyter-widgets/controls",
            "_model_module_version": "1.5.0",
            "_model_name": "DescriptionStyleModel",
            "_view_count": null,
            "_view_module": "@jupyter-widgets/base",
            "_view_module_version": "1.2.0",
            "_view_name": "StyleView",
            "description_width": ""
          }
        },
        "b3e0d2c309e64eb8abe9b5b7f5fe20d1": {
          "model_module": "@jupyter-widgets/base",
          "model_name": "LayoutModel",
          "model_module_version": "1.2.0",
          "state": {
            "_model_module": "@jupyter-widgets/base",
            "_model_module_version": "1.2.0",
            "_model_name": "LayoutModel",
            "_view_count": null,
            "_view_module": "@jupyter-widgets/base",
            "_view_module_version": "1.2.0",
            "_view_name": "LayoutView",
            "align_content": null,
            "align_items": null,
            "align_self": null,
            "border": null,
            "bottom": null,
            "display": null,
            "flex": null,
            "flex_flow": null,
            "grid_area": null,
            "grid_auto_columns": null,
            "grid_auto_flow": null,
            "grid_auto_rows": null,
            "grid_column": null,
            "grid_gap": null,
            "grid_row": null,
            "grid_template_areas": null,
            "grid_template_columns": null,
            "grid_template_rows": null,
            "height": null,
            "justify_content": null,
            "justify_items": null,
            "left": null,
            "margin": null,
            "max_height": null,
            "max_width": null,
            "min_height": null,
            "min_width": null,
            "object_fit": null,
            "object_position": null,
            "order": null,
            "overflow": null,
            "overflow_x": null,
            "overflow_y": null,
            "padding": null,
            "right": null,
            "top": null,
            "visibility": null,
            "width": null
          }
        },
        "27851012a2fc4e49988f323279f83f47": {
          "model_module": "@jupyter-widgets/controls",
          "model_name": "ButtonStyleModel",
          "model_module_version": "1.5.0",
          "state": {
            "_model_module": "@jupyter-widgets/controls",
            "_model_module_version": "1.5.0",
            "_model_name": "ButtonStyleModel",
            "_view_count": null,
            "_view_module": "@jupyter-widgets/base",
            "_view_module_version": "1.2.0",
            "_view_name": "StyleView",
            "button_color": null,
            "font_weight": ""
          }
        },
        "404f60e2cd5a4f3aab371f78b0f8bfe7": {
          "model_module": "@jupyter-widgets/base",
          "model_name": "LayoutModel",
          "model_module_version": "1.2.0",
          "state": {
            "_model_module": "@jupyter-widgets/base",
            "_model_module_version": "1.2.0",
            "_model_name": "LayoutModel",
            "_view_count": null,
            "_view_module": "@jupyter-widgets/base",
            "_view_module_version": "1.2.0",
            "_view_name": "LayoutView",
            "align_content": null,
            "align_items": null,
            "align_self": null,
            "border": null,
            "bottom": null,
            "display": null,
            "flex": null,
            "flex_flow": null,
            "grid_area": null,
            "grid_auto_columns": null,
            "grid_auto_flow": null,
            "grid_auto_rows": null,
            "grid_column": null,
            "grid_gap": null,
            "grid_row": null,
            "grid_template_areas": null,
            "grid_template_columns": null,
            "grid_template_rows": null,
            "height": null,
            "justify_content": null,
            "justify_items": null,
            "left": null,
            "margin": null,
            "max_height": null,
            "max_width": null,
            "min_height": null,
            "min_width": null,
            "object_fit": null,
            "object_position": null,
            "order": null,
            "overflow": null,
            "overflow_x": null,
            "overflow_y": null,
            "padding": null,
            "right": null,
            "top": null,
            "visibility": null,
            "width": null
          }
        },
        "bb368d29d7444b99abcd9aeae3961891": {
          "model_module": "@jupyter-widgets/controls",
          "model_name": "ButtonStyleModel",
          "model_module_version": "1.5.0",
          "state": {
            "_model_module": "@jupyter-widgets/controls",
            "_model_module_version": "1.5.0",
            "_model_name": "ButtonStyleModel",
            "_view_count": null,
            "_view_module": "@jupyter-widgets/base",
            "_view_module_version": "1.2.0",
            "_view_name": "StyleView",
            "button_color": null,
            "font_weight": ""
          }
        },
        "2132eeeeac594b3692761dfa58b2d670": {
          "model_module": "@jupyter-widgets/base",
          "model_name": "LayoutModel",
          "model_module_version": "1.2.0",
          "state": {
            "_model_module": "@jupyter-widgets/base",
            "_model_module_version": "1.2.0",
            "_model_name": "LayoutModel",
            "_view_count": null,
            "_view_module": "@jupyter-widgets/base",
            "_view_module_version": "1.2.0",
            "_view_name": "LayoutView",
            "align_content": null,
            "align_items": null,
            "align_self": null,
            "border": null,
            "bottom": null,
            "display": null,
            "flex": null,
            "flex_flow": null,
            "grid_area": null,
            "grid_auto_columns": null,
            "grid_auto_flow": null,
            "grid_auto_rows": null,
            "grid_column": null,
            "grid_gap": null,
            "grid_row": null,
            "grid_template_areas": null,
            "grid_template_columns": null,
            "grid_template_rows": null,
            "height": null,
            "justify_content": null,
            "justify_items": null,
            "left": null,
            "margin": null,
            "max_height": null,
            "max_width": null,
            "min_height": null,
            "min_width": null,
            "object_fit": null,
            "object_position": null,
            "order": null,
            "overflow": null,
            "overflow_x": null,
            "overflow_y": null,
            "padding": null,
            "right": null,
            "top": null,
            "visibility": null,
            "width": null
          }
        },
        "7332687c970641aeb67fe911a4ea2671": {
          "model_module": "@jupyter-widgets/controls",
          "model_name": "DescriptionStyleModel",
          "model_module_version": "1.5.0",
          "state": {
            "_model_module": "@jupyter-widgets/controls",
            "_model_module_version": "1.5.0",
            "_model_name": "DescriptionStyleModel",
            "_view_count": null,
            "_view_module": "@jupyter-widgets/base",
            "_view_module_version": "1.2.0",
            "_view_name": "StyleView",
            "description_width": ""
          }
        },
        "12320117f393425e8f8c88da253abcf4": {
          "model_module": "@jupyter-widgets/base",
          "model_name": "LayoutModel",
          "model_module_version": "1.2.0",
          "state": {
            "_model_module": "@jupyter-widgets/base",
            "_model_module_version": "1.2.0",
            "_model_name": "LayoutModel",
            "_view_count": null,
            "_view_module": "@jupyter-widgets/base",
            "_view_module_version": "1.2.0",
            "_view_name": "LayoutView",
            "align_content": null,
            "align_items": null,
            "align_self": null,
            "border": null,
            "bottom": null,
            "display": null,
            "flex": null,
            "flex_flow": null,
            "grid_area": null,
            "grid_auto_columns": null,
            "grid_auto_flow": null,
            "grid_auto_rows": null,
            "grid_column": null,
            "grid_gap": null,
            "grid_row": null,
            "grid_template_areas": null,
            "grid_template_columns": null,
            "grid_template_rows": null,
            "height": null,
            "justify_content": null,
            "justify_items": null,
            "left": null,
            "margin": null,
            "max_height": null,
            "max_width": null,
            "min_height": null,
            "min_width": null,
            "object_fit": null,
            "object_position": null,
            "order": null,
            "overflow": null,
            "overflow_x": null,
            "overflow_y": null,
            "padding": null,
            "right": null,
            "top": null,
            "visibility": null,
            "width": null
          }
        }
      }
    }
  },
  "cells": [
    {
      "cell_type": "markdown",
      "metadata": {
        "id": "view-in-github",
        "colab_type": "text"
      },
      "source": [
        "<a href=\"https://colab.research.google.com/github/mono-koto/dlc/blob/main/02/ui.ipynb\" target=\"_parent\"><img src=\"https://colab.research.google.com/assets/colab-badge.svg\" alt=\"Open In Colab\"/></a>"
      ]
    },
    {
      "cell_type": "code",
      "execution_count": null,
      "metadata": {
        "id": "LvRPQR-NjSHh"
      },
      "outputs": [],
      "source": [
        "! [ -e /content ] && pip install -Uqq fastbook\n",
        "import fastbook\n",
        "fastbook.setup_book()"
      ]
    },
    {
      "cell_type": "code",
      "source": [
        "from fastbook import *\n",
        "from fastai.vision.widgets import *"
      ],
      "metadata": {
        "id": "fOzNkKFOkdP4"
      },
      "execution_count": null,
      "outputs": []
    },
    {
      "cell_type": "code",
      "source": [
        "model_path = Path('/content/gdrive/MyDrive/Colab Notebooks/dlc/02/model.pkl')"
      ],
      "metadata": {
        "id": "6jBkH4N59WWF"
      },
      "execution_count": null,
      "outputs": []
    },
    {
      "cell_type": "code",
      "source": [
        "learn_inf = load_learner(model_path)"
      ],
      "metadata": {
        "id": "4L74csSr9bBj"
      },
      "execution_count": null,
      "outputs": []
    },
    {
      "cell_type": "code",
      "source": [
        "btn_upload = widgets.FileUpload()\n",
        "btn_run = widgets.Button(description='Classify')\n",
        "\n",
        "def on_click_classify(change):\n",
        "    img = PILImage.create(btn_upload.data[-1])\n",
        "    out_pl.clear_output()\n",
        "    with out_pl: display(img.to_thumb(128,128))\n",
        "    pred,pred_idx,probs = learn_inf.predict(img)\n",
        "    lbl_pred.value = f'Prediction: {pred}; Probability: {probs[pred_idx]:.04f}'\n",
        "\n",
        "btn_run.on_click(on_click_classify)\n",
        "\n",
        "VBox([widgets.Label('Select your bear!'),\n",
        "      btn_upload, btn_run, out_pl, lbl_pred])"
      ],
      "metadata": {
        "colab": {
          "base_uri": "https://localhost:8080/",
          "height": 230,
          "referenced_widgets": [
            "2529f9352d3e4e07ab0931cd301cf701",
            "c9748f6f44cb4c2a80d3d16379749768",
            "8bdd2c4bd5734d99a713e332c9db5b78",
            "6e3648a1867942b893dc3f799c75b5d0",
            "284ca3183b8c431e9189b8068bb1247a",
            "ec3dc0b009e54136b8ba3ad68faf3f10",
            "bed9d59829274db9abb51bed6e079e99",
            "60a89a88bf4044cfb30268ed856da75f",
            "bdb9880370ac424cb612dcd87eac164d",
            "b3e0d2c309e64eb8abe9b5b7f5fe20d1",
            "27851012a2fc4e49988f323279f83f47",
            "404f60e2cd5a4f3aab371f78b0f8bfe7",
            "bb368d29d7444b99abcd9aeae3961891",
            "2132eeeeac594b3692761dfa58b2d670",
            "7332687c970641aeb67fe911a4ea2671",
            "12320117f393425e8f8c88da253abcf4"
          ]
        },
        "id": "HPNeCnU4BcMc",
        "outputId": "2cbf201a-2477-402e-b825-7399632452c9"
      },
      "execution_count": null,
      "outputs": [
        {
          "output_type": "display_data",
          "data": {
            "text/plain": [
              "VBox(children=(Label(value='Select your bear!'), FileUpload(value={}, description='Upload'), Button(descriptio…"
            ],
            "application/vnd.jupyter.widget-view+json": {
              "version_major": 2,
              "version_minor": 0,
              "model_id": "2529f9352d3e4e07ab0931cd301cf701"
            }
          },
          "metadata": {}
        },
        {
          "output_type": "display_data",
          "data": {
            "text/plain": [
              "<IPython.core.display.HTML object>"
            ],
            "text/html": [
              "\n",
              "<style>\n",
              "    /* Turns off some styling */\n",
              "    progress {\n",
              "        /* gets rid of default border in Firefox and Opera. */\n",
              "        border: none;\n",
              "        /* Needs to be in here for Safari polyfill so background images work as expected. */\n",
              "        background-size: auto;\n",
              "    }\n",
              "    progress:not([value]), progress:not([value])::-webkit-progress-bar {\n",
              "        background: repeating-linear-gradient(45deg, #7e7e7e, #7e7e7e 10px, #5c5c5c 10px, #5c5c5c 20px);\n",
              "    }\n",
              "    .progress-bar-interrupted, .progress-bar-interrupted::-webkit-progress-bar {\n",
              "        background: #F44336;\n",
              "    }\n",
              "</style>\n"
            ]
          },
          "metadata": {}
        },
        {
          "output_type": "display_data",
          "data": {
            "text/plain": [
              "<IPython.core.display.HTML object>"
            ],
            "text/html": []
          },
          "metadata": {}
        },
        {
          "output_type": "display_data",
          "data": {
            "text/plain": [
              "<IPython.core.display.HTML object>"
            ],
            "text/html": [
              "\n",
              "<style>\n",
              "    /* Turns off some styling */\n",
              "    progress {\n",
              "        /* gets rid of default border in Firefox and Opera. */\n",
              "        border: none;\n",
              "        /* Needs to be in here for Safari polyfill so background images work as expected. */\n",
              "        background-size: auto;\n",
              "    }\n",
              "    progress:not([value]), progress:not([value])::-webkit-progress-bar {\n",
              "        background: repeating-linear-gradient(45deg, #7e7e7e, #7e7e7e 10px, #5c5c5c 10px, #5c5c5c 20px);\n",
              "    }\n",
              "    .progress-bar-interrupted, .progress-bar-interrupted::-webkit-progress-bar {\n",
              "        background: #F44336;\n",
              "    }\n",
              "</style>\n"
            ]
          },
          "metadata": {}
        },
        {
          "output_type": "display_data",
          "data": {
            "text/plain": [
              "<IPython.core.display.HTML object>"
            ],
            "text/html": []
          },
          "metadata": {}
        }
      ]
    },
    {
      "cell_type": "code",
      "source": [
        "!pip install voila --use-deprecated=legacy-resolver\n",
        "!jupyter serverextension enable --sys-prefix voila"
      ],
      "metadata": {
        "colab": {
          "base_uri": "https://localhost:8080/"
        },
        "id": "n9Znqh9QGqt2",
        "outputId": "c9fb3e6c-414a-4a4f-ebda-3a343c4f31e8"
      },
      "execution_count": null,
      "outputs": [
        {
          "output_type": "stream",
          "name": "stdout",
          "text": [
            "Requirement already satisfied: voila in /usr/local/lib/python3.10/dist-packages (0.5.6)\n",
            "Requirement already satisfied: jupyter-client<9,>=7.4.4 in /usr/local/lib/python3.10/dist-packages (from voila) (8.6.1)\n",
            "Requirement already satisfied: jupyter-core>=4.11.0 in /usr/local/lib/python3.10/dist-packages (from voila) (5.7.2)\n",
            "Requirement already satisfied: jupyter-server<3,>=2.0.0 in /usr/local/lib/python3.10/dist-packages (from voila) (2.14.0)\n",
            "Requirement already satisfied: jupyterlab-server<3,>=2.3.0 in /usr/local/lib/python3.10/dist-packages (from voila) (2.27.1)\n",
            "Requirement already satisfied: nbclient<0.8,>=0.4.0 in /usr/local/lib/python3.10/dist-packages (from voila) (0.7.4)\n",
            "Requirement already satisfied: nbconvert<8,>=6.4.5 in /usr/local/lib/python3.10/dist-packages (from voila) (7.16.3)\n",
            "Requirement already satisfied: traitlets<6,>=5.0.3 in /usr/local/lib/python3.10/dist-packages (from voila) (5.7.1)\n",
            "Requirement already satisfied: websockets>=9.0 in /usr/local/lib/python3.10/dist-packages (from voila) (12.0)\n",
            "Requirement already satisfied: python-dateutil>=2.8.2 in /usr/local/lib/python3.10/dist-packages (from jupyter-client<9,>=7.4.4->voila) (2.9.0.post0)\n",
            "Requirement already satisfied: pyzmq>=23.0 in /usr/local/lib/python3.10/dist-packages (from jupyter-client<9,>=7.4.4->voila) (24.0.1)\n",
            "Requirement already satisfied: tornado>=6.2 in /usr/local/lib/python3.10/dist-packages (from jupyter-client<9,>=7.4.4->voila) (6.3.3)\n",
            "Requirement already satisfied: platformdirs>=2.5 in /usr/local/lib/python3.10/dist-packages (from jupyter-core>=4.11.0->voila) (4.2.1)\n",
            "Requirement already satisfied: anyio>=3.1.0 in /usr/local/lib/python3.10/dist-packages (from jupyter-server<3,>=2.0.0->voila) (3.7.1)\n",
            "Requirement already satisfied: argon2-cffi>=21.1 in /usr/local/lib/python3.10/dist-packages (from jupyter-server<3,>=2.0.0->voila) (23.1.0)\n",
            "Requirement already satisfied: jinja2>=3.0.3 in /usr/local/lib/python3.10/dist-packages (from jupyter-server<3,>=2.0.0->voila) (3.1.3)\n",
            "Requirement already satisfied: jupyter-events>=0.9.0 in /usr/local/lib/python3.10/dist-packages (from jupyter-server<3,>=2.0.0->voila) (0.10.0)\n",
            "Requirement already satisfied: jupyter-server-terminals>=0.4.4 in /usr/local/lib/python3.10/dist-packages (from jupyter-server<3,>=2.0.0->voila) (0.5.3)\n",
            "Requirement already satisfied: nbformat>=5.3.0 in /usr/local/lib/python3.10/dist-packages (from jupyter-server<3,>=2.0.0->voila) (5.10.4)\n",
            "Requirement already satisfied: overrides>=5.0 in /usr/local/lib/python3.10/dist-packages (from jupyter-server<3,>=2.0.0->voila) (7.7.0)\n",
            "Requirement already satisfied: packaging>=22.0 in /usr/local/lib/python3.10/dist-packages (from jupyter-server<3,>=2.0.0->voila) (24.0)\n",
            "Requirement already satisfied: prometheus-client>=0.9 in /usr/local/lib/python3.10/dist-packages (from jupyter-server<3,>=2.0.0->voila) (0.20.0)\n",
            "Requirement already satisfied: send2trash>=1.8.2 in /usr/local/lib/python3.10/dist-packages (from jupyter-server<3,>=2.0.0->voila) (1.8.3)\n",
            "Requirement already satisfied: terminado>=0.8.3 in /usr/local/lib/python3.10/dist-packages (from jupyter-server<3,>=2.0.0->voila) (0.18.1)\n",
            "Requirement already satisfied: websocket-client>=1.7 in /usr/local/lib/python3.10/dist-packages (from jupyter-server<3,>=2.0.0->voila) (1.8.0)\n",
            "Requirement already satisfied: babel>=2.10 in /usr/local/lib/python3.10/dist-packages (from jupyterlab-server<3,>=2.3.0->voila) (2.14.0)\n",
            "Requirement already satisfied: json5>=0.9.0 in /usr/local/lib/python3.10/dist-packages (from jupyterlab-server<3,>=2.3.0->voila) (0.9.25)\n",
            "Requirement already satisfied: jsonschema>=4.18.0 in /usr/local/lib/python3.10/dist-packages (from jupyterlab-server<3,>=2.3.0->voila) (4.21.1)\n",
            "Requirement already satisfied: requests>=2.31 in /usr/local/lib/python3.10/dist-packages (from jupyterlab-server<3,>=2.3.0->voila) (2.31.0)\n",
            "Requirement already satisfied: beautifulsoup4 in /usr/local/lib/python3.10/dist-packages (from nbconvert<8,>=6.4.5->voila) (4.12.3)\n",
            "Requirement already satisfied: bleach!=5.0.0 in /usr/local/lib/python3.10/dist-packages (from nbconvert<8,>=6.4.5->voila) (6.1.0)\n",
            "Requirement already satisfied: defusedxml in /usr/local/lib/python3.10/dist-packages (from nbconvert<8,>=6.4.5->voila) (0.7.1)\n",
            "Requirement already satisfied: jupyterlab-pygments in /usr/local/lib/python3.10/dist-packages (from nbconvert<8,>=6.4.5->voila) (0.3.0)\n",
            "Requirement already satisfied: markupsafe>=2.0 in /usr/local/lib/python3.10/dist-packages (from nbconvert<8,>=6.4.5->voila) (2.1.5)\n",
            "Requirement already satisfied: mistune<4,>=2.0.3 in /usr/local/lib/python3.10/dist-packages (from nbconvert<8,>=6.4.5->voila) (3.0.2)\n",
            "Requirement already satisfied: pandocfilters>=1.4.1 in /usr/local/lib/python3.10/dist-packages (from nbconvert<8,>=6.4.5->voila) (1.5.1)\n",
            "Requirement already satisfied: pygments>=2.4.1 in /usr/local/lib/python3.10/dist-packages (from nbconvert<8,>=6.4.5->voila) (2.17.2)\n",
            "Requirement already satisfied: tinycss2 in /usr/local/lib/python3.10/dist-packages (from nbconvert<8,>=6.4.5->voila) (1.3.0)\n",
            "Requirement already satisfied: six>=1.5 in /usr/local/lib/python3.10/dist-packages (from python-dateutil>=2.8.2->jupyter-client<9,>=7.4.4->voila) (1.16.0)\n",
            "Requirement already satisfied: idna>=2.8 in /usr/local/lib/python3.10/dist-packages (from anyio>=3.1.0->jupyter-server<3,>=2.0.0->voila) (3.7)\n",
            "Requirement already satisfied: sniffio>=1.1 in /usr/local/lib/python3.10/dist-packages (from anyio>=3.1.0->jupyter-server<3,>=2.0.0->voila) (1.3.1)\n",
            "Requirement already satisfied: exceptiongroup; python_version < \"3.11\" in /usr/local/lib/python3.10/dist-packages (from anyio>=3.1.0->jupyter-server<3,>=2.0.0->voila) (1.2.1)\n",
            "Requirement already satisfied: argon2-cffi-bindings in /usr/local/lib/python3.10/dist-packages (from argon2-cffi>=21.1->jupyter-server<3,>=2.0.0->voila) (21.2.0)\n",
            "Requirement already satisfied: python-json-logger>=2.0.4 in /usr/local/lib/python3.10/dist-packages (from jupyter-events>=0.9.0->jupyter-server<3,>=2.0.0->voila) (2.0.7)\n",
            "Requirement already satisfied: pyyaml>=5.3 in /usr/local/lib/python3.10/dist-packages (from jupyter-events>=0.9.0->jupyter-server<3,>=2.0.0->voila) (6.0.1)\n",
            "Requirement already satisfied: referencing in /usr/local/lib/python3.10/dist-packages (from jupyter-events>=0.9.0->jupyter-server<3,>=2.0.0->voila) (0.35.0)\n",
            "Requirement already satisfied: rfc3339-validator in /usr/local/lib/python3.10/dist-packages (from jupyter-events>=0.9.0->jupyter-server<3,>=2.0.0->voila) (0.1.4)\n",
            "Requirement already satisfied: rfc3986-validator>=0.1.1 in /usr/local/lib/python3.10/dist-packages (from jupyter-events>=0.9.0->jupyter-server<3,>=2.0.0->voila) (0.1.1)\n",
            "Requirement already satisfied: fastjsonschema>=2.15 in /usr/local/lib/python3.10/dist-packages (from nbformat>=5.3.0->jupyter-server<3,>=2.0.0->voila) (2.19.1)\n",
            "Requirement already satisfied: ptyprocess; os_name != \"nt\" in /usr/local/lib/python3.10/dist-packages (from terminado>=0.8.3->jupyter-server<3,>=2.0.0->voila) (0.7.0)\n",
            "Requirement already satisfied: attrs>=22.2.0 in /usr/local/lib/python3.10/dist-packages (from jsonschema>=4.18.0->jupyterlab-server<3,>=2.3.0->voila) (23.2.0)\n",
            "Requirement already satisfied: jsonschema-specifications>=2023.03.6 in /usr/local/lib/python3.10/dist-packages (from jsonschema>=4.18.0->jupyterlab-server<3,>=2.3.0->voila) (2023.12.1)\n",
            "Requirement already satisfied: rpds-py>=0.7.1 in /usr/local/lib/python3.10/dist-packages (from jsonschema>=4.18.0->jupyterlab-server<3,>=2.3.0->voila) (0.18.0)\n",
            "Requirement already satisfied: charset-normalizer<4,>=2 in /usr/local/lib/python3.10/dist-packages (from requests>=2.31->jupyterlab-server<3,>=2.3.0->voila) (3.3.2)\n",
            "Requirement already satisfied: urllib3<3,>=1.21.1 in /usr/local/lib/python3.10/dist-packages (from requests>=2.31->jupyterlab-server<3,>=2.3.0->voila) (2.0.7)\n",
            "Requirement already satisfied: certifi>=2017.4.17 in /usr/local/lib/python3.10/dist-packages (from requests>=2.31->jupyterlab-server<3,>=2.3.0->voila) (2024.2.2)\n",
            "Requirement already satisfied: soupsieve>1.2 in /usr/local/lib/python3.10/dist-packages (from beautifulsoup4->nbconvert<8,>=6.4.5->voila) (2.5)\n",
            "Requirement already satisfied: webencodings in /usr/local/lib/python3.10/dist-packages (from bleach!=5.0.0->nbconvert<8,>=6.4.5->voila) (0.5.1)\n",
            "Requirement already satisfied: cffi>=1.0.1 in /usr/local/lib/python3.10/dist-packages (from argon2-cffi-bindings->argon2-cffi>=21.1->jupyter-server<3,>=2.0.0->voila) (1.16.0)\n",
            "Requirement already satisfied: pycparser in /usr/local/lib/python3.10/dist-packages (from cffi>=1.0.1->argon2-cffi-bindings->argon2-cffi>=21.1->jupyter-server<3,>=2.0.0->voila) (2.22)\n",
            "Enabling: voila\n",
            "- Writing config: /usr/etc/jupyter\n",
            "    - Validating...\n",
            "      voila 0.5.6 \u001b[32mOK\u001b[0m\n"
          ]
        }
      ]
    }
  ]
}